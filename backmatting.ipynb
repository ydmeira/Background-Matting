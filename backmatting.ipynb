{
  "nbformat": 4,
  "nbformat_minor": 0,
  "metadata": {
    "colab": {
      "name": "BackMatting.ipynb",
      "provenance": [],
      "private_outputs": true,
      "collapsed_sections": [],
      "toc_visible": true
    },
    "kernelspec": {
      "name": "python3",
      "display_name": "Python 3"
    },
    "accelerator": "GPU"
  },
  "cells": [
    {
      "cell_type": "markdown",
      "metadata": {
        "id": "4RWzS-M_1uWx",
        "colab_type": "text"
      },
      "source": [
        "![background matting](https://i.imgur.com/AtVo6zF.png)"
      ]
    },
    {
      "cell_type": "markdown",
      "metadata": {
        "id": "IEGv4epTGgg0",
        "colab_type": "text"
      },
      "source": [
        "The notebook is split into three parts: required setup, running the algorithm on photos, and running it on videos. You may want to use playground mode to make minor changes, should you need to."
      ]
    },
    {
      "cell_type": "markdown",
      "metadata": {
        "id": "eYd5Zw5_GoSe",
        "colab_type": "text"
      },
      "source": [
        "# Required setup"
      ]
    },
    {
      "cell_type": "markdown",
      "metadata": {
        "id": "Irtsr6OBgiHQ",
        "colab_type": "text"
      },
      "source": [
        "Instructions: Go to Runtime -> Change runtime type and select \"GPU\" before proceeding. Then, begin by cloning the repo:"
      ]
    },
    {
      "cell_type": "code",
      "metadata": {
        "id": "efDIVnBbQxbC",
        "colab_type": "code",
        "colab": {}
      },
      "source": [
        "!git clone https://github.com/ydmeira/Background-Matting.git\n",
        "%cd Background-Matting/"
      ],
      "execution_count": null,
      "outputs": []
    },
    {
      "cell_type": "markdown",
      "metadata": {
        "id": "1fH8Ww3lglub",
        "colab_type": "text"
      },
      "source": [
        "Set up the environment:"
      ]
    },
    {
      "cell_type": "code",
      "metadata": {
        "id": "pgaVf6juRE_g",
        "colab_type": "code",
        "colab": {}
      },
      "source": [
        "!pip3 install torch==1.4.0+cu100 torchvision==0.5.0+cu100 -f https://download.pytorch.org/whl/torch_stable.html\n",
        "%tensorflow_version 2.x\n",
        "!pip uninstall -y tensorflow\n",
        "!pip3 install tensorflow-gpu==1.14.0\n",
        "!pip install -r requirements.txt\n",
        "\n",
        "!git clone https://github.com/tensorflow/models.git\n",
        "%cd models/research/\n",
        "import os\n",
        "os.environ[\"PYTHONPATH\"] += f\":{os.getcwd()}:{os.getcwd()}/slim\"\n",
        "%cd ../.."
      ],
      "execution_count": null,
      "outputs": []
    },
    {
      "cell_type": "markdown",
      "metadata": {
        "id": "RF-HwqOigzx-",
        "colab_type": "text"
      },
      "source": [
        "Download model weights for real-fixed-cam and real-hand-held\n"
      ]
    },
    {
      "cell_type": "code",
      "metadata": {
        "id": "Vizdn2SjRI4B",
        "colab_type": "code",
        "colab": {}
      },
      "source": [
        "!wget https://gist.githubusercontent.com/andreyryabtsev/458f7450c630952d1e75e195f94845a0/raw/0b4336ac2a2140ac2313f9966316467e8cd3002a/download.sh\n",
        "!chmod +x download.sh\n",
        "!./download.sh"
      ],
      "execution_count": null,
      "outputs": []
    },
    {
      "cell_type": "markdown",
      "metadata": {
        "id": "-bbRkeSfGSF_",
        "colab_type": "text"
      },
      "source": [
        "# Running on images"
      ]
    },
    {
      "cell_type": "code",
      "metadata": {
        "id": "idU7p6Rzc2lz",
        "colab_type": "code",
        "colab": {}
      },
      "source": [
        "#Uncomment and run this if you want to skip uploading your images (below) and run on sample_data instead\n",
        "\n",
        "cp -r sample_data colab_inputs"
      ],
      "execution_count": null,
      "outputs": []
    },
    {
      "cell_type": "markdown",
      "metadata": {
        "id": "cPPmkCI6GxXl",
        "colab_type": "text"
      },
      "source": [
        "## Upload images"
      ]
    },
    {
      "cell_type": "markdown",
      "metadata": {
        "id": "p9jYtmorbS3n",
        "colab_type": "text"
      },
      "source": [
        "Upload your *foreground images* (similar to https://github.com/senguptaumd/Background-Matting/tree/master/sample_data/input) after running the cell below - they will be saved to `colab_inputs` for processing in further cells. Each image you want matted should be uploaded as `NAME_img.png` and `NAME_back.png` for the respective background. Rerun the cell multiple times if you missed some the first time around."
      ]
    },
    {
      "cell_type": "code",
      "metadata": {
        "id": "4KrIw5zaRlld",
        "colab_type": "code",
        "colab": {}
      },
      "source": [
        "!mkdir -p colab_inputs/input\n",
        "%cd colab_inputs/input\n",
        "from google.colab import files\n",
        "uploaded = files.upload()\n",
        "for filename in uploaded.keys():\n",
        "  print('User uploaded file \"{name}\" with {length} bytes'.format(name=filename, length=len(uploaded[filename])))\n",
        "%cd ../.."
      ],
      "execution_count": null,
      "outputs": []
    },
    {
      "cell_type": "markdown",
      "metadata": {
        "id": "36Nbg6aFdaAb",
        "colab_type": "text"
      },
      "source": [
        "Upload your *target background images* (similar to https://github.com/senguptaumd/Background-Matting/tree/master/sample_data/background) after running the cell below. You can choose the target background to use by name later.\n"
      ]
    },
    {
      "cell_type": "code",
      "metadata": {
        "id": "6DzxZSFISbub",
        "colab_type": "code",
        "colab": {}
      },
      "source": [
        "!mkdir -p colab_inputs/background\n",
        "%cd colab_inputs/background\n",
        "uploaded = files.upload()\n",
        "for filename in uploaded.keys():\n",
        "  print('User uploaded file \"{name}\" with {length} bytes'.format(name=filename, length=len(uploaded[filename])))\n",
        "%cd ../.."
      ],
      "execution_count": null,
      "outputs": []
    },
    {
      "cell_type": "markdown",
      "metadata": {
        "id": "WYXnuvNRIsYH",
        "colab_type": "text"
      },
      "source": [
        "##Process images"
      ]
    },
    {
      "cell_type": "markdown",
      "metadata": {
        "id": "q2_eLEExd0IZ",
        "colab_type": "text"
      },
      "source": [
        "Run segmentation\n"
      ]
    },
    {
      "cell_type": "code",
      "metadata": {
        "id": "xftUAfuTTh-p",
        "colab_type": "code",
        "colab": {}
      },
      "source": [
        "!python3 test_segmentation_deeplab.py -i colab_inputs/input\n"
      ],
      "execution_count": null,
      "outputs": []
    },
    {
      "cell_type": "markdown",
      "metadata": {
        "id": "8cKNrCmXhRH1",
        "colab_type": "text"
      },
      "source": [
        "Pre-process (transform-align) with AKAZE features. Skip the following cell if your data was captured with a tripod."
      ]
    },
    {
      "cell_type": "code",
      "metadata": {
        "id": "MgRuRiOAd8rZ",
        "colab_type": "code",
        "colab": {}
      },
      "source": [
        "!python test_pre_process.py -i colab_inputs/input"
      ],
      "execution_count": null,
      "outputs": []
    },
    {
      "cell_type": "markdown",
      "metadata": {
        "id": "Q2Y9QfsGnPHS",
        "colab_type": "text"
      },
      "source": [
        "Run matting - replace \"0001.png\" with the uploaded background you wish to use. Replace \"real-hand-held\" with \"real-fixed-cam\" for tripod images for best results."
      ]
    },
    {
      "cell_type": "code",
      "metadata": {
        "id": "ByORL6hEnBsa",
        "colab_type": "code",
        "colab": {}
      },
      "source": [
        "!CUDA_VISIBLE_DEVICES=0 python test_background-matting_image.py -m real-hand-held -i colab_inputs/input/ -o colab_inputs/output/ -tb colab_inputs/background/0001.png"
      ],
      "execution_count": null,
      "outputs": []
    },
    {
      "cell_type": "markdown",
      "metadata": {
        "id": "qkF4sd1_n6oF",
        "colab_type": "text"
      },
      "source": [
        "Visualize results!"
      ]
    },
    {
      "cell_type": "code",
      "metadata": {
        "id": "SKAr-x2inOEw",
        "colab_type": "code",
        "colab": {}
      },
      "source": [
        "import matplotlib.image as mpimg \n",
        "from matplotlib.pyplot import imshow\n",
        "from glob import glob\n",
        "%matplotlib inline\n",
        "results = glob(\"colab_inputs/output/*_compose.png\")\n",
        "print(results)\n",
        "if len(results) > 0:\n",
        "  print(f\"Showing {results[0]}\")\n",
        "  testim = mpimg.imread(results[0])\n",
        "  imshow(testim)\n"
      ],
      "execution_count": null,
      "outputs": []
    },
    {
      "cell_type": "markdown",
      "metadata": {
        "id": "7TtcugkwLtyR",
        "colab_type": "text"
      },
      "source": [
        "#Running on video"
      ]
    },
    {
      "cell_type": "markdown",
      "metadata": {
        "id": "BU2moFoeyQe_",
        "colab_type": "text"
      },
      "source": [
        "Warning: going through the process on videos, especially in excess of 10 seconds, can take quite some time on Colab"
      ]
    },
    {
      "cell_type": "code",
      "metadata": {
        "id": "8K4MmdJjWdr9",
        "colab_type": "code",
        "colab": {}
      },
      "source": [
        "#Uncomment and run this if you want to skip uploading your videos (below) and run on the sample videos instead (choose fixed or handheld)\n",
        "\n",
        "!wget https://gist.githubusercontent.com/andreyryabtsev/79d1166452ebd5d5775fbf9169431967/raw/4d20c260d3b3379d1ea9e2e4baab013caf25bc4d/download_vids.sh\n",
        "!chmod +x download_vids.sh\n",
        "!./download_vids.sh handheld\n",
        "# # !./download_vids.sh fixed"
      ],
      "execution_count": null,
      "outputs": []
    },
    {
      "cell_type": "markdown",
      "metadata": {
        "id": "n9ZH-3H0MGHO",
        "colab_type": "text"
      },
      "source": [
        "## Upload videos\n"
      ]
    },
    {
      "cell_type": "markdown",
      "metadata": {
        "id": "ZUAi6R6EMLaR",
        "colab_type": "text"
      },
      "source": [
        "Upload the video from which you would like to extract the foreground, a still of the background, as well as a target background video. Name them `video.mp4`, `video_back.png`, and `target_background.mp4` respectively -- or change the first cell under \"process videos\" to use your names. You can use any other method to upload if this one takes long (e.g. mount Drive and copy files over)."
      ]
    },
    {
      "cell_type": "code",
      "metadata": {
        "id": "-GsBD-sJMSP3",
        "colab_type": "code",
        "colab": {}
      },
      "source": [
        "!mkdir -p colab_inputs_video\n",
        "%cd colab_inputs_video\n",
        "from google.colab import files\n",
        "uploaded = files.upload()\n",
        "for filename in uploaded.keys():\n",
        "  print('User uploaded file \"{name}\" with {length} bytes'.format(name=filename, length=len(uploaded[filename])))\n",
        "%cd .."
      ],
      "execution_count": null,
      "outputs": []
    },
    {
      "cell_type": "markdown",
      "metadata": {
        "id": "1OKjsdLKN1dL",
        "colab_type": "text"
      },
      "source": [
        "## Process videos"
      ]
    },
    {
      "cell_type": "markdown",
      "metadata": {
        "id": "tHI1N3pUOTVR",
        "colab_type": "text"
      },
      "source": [
        "Select the files to use:"
      ]
    },
    {
      "cell_type": "code",
      "metadata": {
        "id": "tr8wS39kOWfG",
        "colab_type": "code",
        "colab": {}
      },
      "source": [
        "os.environ[\"BM_SOURCE_VIDEO\"] = \"video.mp4\"\n",
        "os.environ[\"BM_SOURCE_STILL\"] = \"video_back.png\"\n",
        "os.environ[\"BM_TARGET_VIDEO\"] = \"target_background.mp4\"\n",
        "os.environ[\"FRAME_RATE\"] = \"30\" # used only in combining output frames\n",
        "\n",
        "os.environ[\"BM_OUTPUT_COMPOSE\"] = \"video_result.mp4\"\n",
        "os.environ[\"BM_OUTPUT_MATTE\"] = \"video_result_matte.mp4\""
      ],
      "execution_count": null,
      "outputs": []
    },
    {
      "cell_type": "markdown",
      "metadata": {
        "id": "lCSUPY51OZLf",
        "colab_type": "text"
      },
      "source": [
        "Extract frames"
      ]
    },
    {
      "cell_type": "code",
      "metadata": {
        "id": "XFyGeu0gOa0C",
        "colab_type": "code",
        "colab": {}
      },
      "source": [
        "%cd colab_inputs_video\n",
        "%mkdir input background\n",
        "!ffmpeg -i $BM_SOURCE_VIDEO input/%04d_img.png -hide_banner\n",
        "!ffmpeg -i $BM_TARGET_VIDEO background/%04d.png -hide_banner\n",
        "%cd .."
      ],
      "execution_count": null,
      "outputs": []
    },
    {
      "cell_type": "markdown",
      "metadata": {
        "id": "EwtQBIARQEv2",
        "colab_type": "text"
      },
      "source": [
        "Run segmentation"
      ]
    },
    {
      "cell_type": "code",
      "metadata": {
        "id": "kETGFbwSQF88",
        "colab_type": "code",
        "colab": {}
      },
      "source": [
        "!python test_segmentation_deeplab.py -i colab_inputs_video/input"
      ],
      "execution_count": null,
      "outputs": []
    },
    {
      "cell_type": "markdown",
      "metadata": {
        "id": "oxRm0ypXQYIN",
        "colab_type": "text"
      },
      "source": [
        "Align the frames -- skip this step if your video was captured with a fixed camera"
      ]
    },
    {
      "cell_type": "code",
      "metadata": {
        "id": "RsXaKRs6QedX",
        "colab_type": "code",
        "colab": {}
      },
      "source": [
        "!python test_pre_process_video.py -i colab_inputs_video/input -v_name colab_inputs_video/$BM_SOURCE_STILL"
      ],
      "execution_count": null,
      "outputs": []
    },
    {
      "cell_type": "markdown",
      "metadata": {
        "id": "bOmupai7RKnq",
        "colab_type": "text"
      },
      "source": [
        "Run the matting algorithm. If your video was captured with a fixed camera, comment the first line and uncomment the second before running."
      ]
    },
    {
      "cell_type": "code",
      "metadata": {
        "id": "uJqZG4lbEDT5",
        "colab_type": "code",
        "colab": {}
      },
      "source": [
        "!git pull"
      ],
      "execution_count": null,
      "outputs": []
    },
    {
      "cell_type": "code",
      "metadata": {
        "id": "_OLkkwr8RRJD",
        "colab_type": "code",
        "colab": {}
      },
      "source": [
        "!CUDA_VISIBLE_DEVICES=0 python test_background-matting_image.py -m real-hand-held -i colab_inputs_video/input/ -o colab_inputs_video/output/ -tb colab_inputs_video/background/\n",
        "# !CUDA_VISIBLE_DEVICES=0 python test_background-matting_image.py -m real-fixed-cam -i colab_inputs_video/input/ -o colab_inputs_video/output/ -tb colab_inputs_video/background/ -b colab_inputs_video/$BM_SOURCE_STILL"
      ],
      "execution_count": null,
      "outputs": []
    },
    {
      "cell_type": "markdown",
      "metadata": {
        "id": "dpMUXEeQR1or",
        "colab_type": "text"
      },
      "source": [
        "Combine frames into video"
      ]
    },
    {
      "cell_type": "code",
      "metadata": {
        "id": "k397TotCR5Kl",
        "colab_type": "code",
        "colab": {}
      },
      "source": [
        "%cd colab_inputs_video\n",
        "!ffmpeg -r $FRAME_RATE -f image2 -i output/%04d_matte.png -vcodec libx264 -crf 15 -s 1080x1920 -pix_fmt yuv420p $BM_OUTPUT_MATTE\n",
        "!ffmpeg -r $FRAME_RATE -f image2 -i output/%04d_compose.png -vcodec libx264 -crf 15 -s 1080x1920 -pix_fmt yuv420p $BM_OUTPUT_COMPOSE\n",
        "%cd .."
      ],
      "execution_count": null,
      "outputs": []
    },
    {
      "cell_type": "markdown",
      "metadata": {
        "id": "1rixNl50Th3p",
        "colab_type": "text"
      },
      "source": [
        "The resulting videos can be downloaded from the files tab on the left!"
      ]
    }
  ]
}